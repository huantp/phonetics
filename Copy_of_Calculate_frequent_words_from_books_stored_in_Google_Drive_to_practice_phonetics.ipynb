{
  "nbformat": 4,
  "nbformat_minor": 0,
  "metadata": {
    "colab": {
      "name": "Copy of Calculate frequent words from  books stored in Google Drive to practice phonetics.ipynb",
      "provenance": [],
      "mount_file_id": "1j5o-ajbJwlIgmQhOFf5bmRHgh8LQkT9m",
      "authorship_tag": "ABX9TyO61QTyTHH5NbGb9s3l+I38",
      "include_colab_link": true
    },
    "kernelspec": {
      "name": "python3",
      "display_name": "Python 3"
    }
  },
  "cells": [
    {
      "cell_type": "markdown",
      "metadata": {
        "id": "view-in-github",
        "colab_type": "text"
      },
      "source": [
        "<a href=\"https://colab.research.google.com/github/huantp/phonetics/blob/main/Copy_of_Calculate_frequent_words_from_books_stored_in_Google_Drive_to_practice_phonetics.ipynb\" target=\"_parent\"><img src=\"https://colab.research.google.com/assets/colab-badge.svg\" alt=\"Open In Colab\"/></a>"
      ]
    },
    {
      "cell_type": "markdown",
      "metadata": {
        "id": "unJi8znBaZXe"
      },
      "source": [
        "# Read books and count words"
      ]
    },
    {
      "cell_type": "code",
      "metadata": {
        "id": "BFFvhvBQ-R6M",
        "colab": {
          "base_uri": "https://localhost:8080/"
        },
        "outputId": "fcaf7725-8145-482b-f4fb-86e2000a3c68"
      },
      "source": [
        "#1. Put txt files in Google Drive folder\n",
        "#2. Get the path\n",
        "#3. Create a list of books\n",
        "\n",
        "\n",
        "import os\n",
        "\n",
        "#2. Get the path\n",
        "path = '/content/drive/MyDrive/books _txt/'\n",
        "list_dir = os.listdir(path)\n",
        "for i in list_dir: #Get all the elements in that path\n",
        "  print(i)\n",
        "\n",
        "#Loop over list of files in folder, read books and create list of books\n",
        "book_list = []\n",
        "\n",
        "for title in list_dir:\n",
        "  with open(path+title,'r') as book:\n",
        "    text = book.read()\n",
        "    book_list.append(text)\n",
        "\n"
      ],
      "execution_count": null,
      "outputs": [
        {
          "output_type": "stream",
          "text": [
            "Sapiens A Brief History of Humankind by Yuval Noah Harari.txt\n",
            "A Short History of Nearly Everything by Bryson Bill).txt\n",
            "Infinite Powers How Calculus Reveals the Secrets of the Universe by Steven Strogatz.txt\n",
            "Scale The Universal Laws of Growth, Innovation, Sustainability, and the Pace of Life in Organisms, Cities, Economies, and Companies by Geoffrey West.txt\n"
          ],
          "name": "stdout"
        }
      ]
    },
    {
      "cell_type": "code",
      "metadata": {
        "colab": {
          "base_uri": "https://localhost:8080/",
          "height": 142
        },
        "id": "cprVlM37IxMm",
        "outputId": "bdc0ff90-dbd1-440a-cbd6-6196c3aa4eb0"
      },
      "source": [
        "#1 If we have it, we load a spreadsheet with word-phonetics dataframe \n",
        " #that we studies previously, so it includes other columns such as phonetics, learning_status,etc.\n",
        " #Note: in my case learning_status = 5 means I mastered its pronunciation and 1 means I have no clue\n",
        "#2 Clean up old dataframe from unwanted characters\n",
        "\n",
        "import pandas as pd\n",
        "\n",
        "url = 'https://docs.google.com/spreadsheets/d/e/2PACX-1vQzPNI29qAs7dEn90473miR5YwY-5EZRkfNg-BFmjLnQCWm0F_UvTspuNFRdDj_DJR1JokdNaDQCbmH/pub?gid=1634795463&single=true&output=csv'\n",
        "df_old = pd.read_csv(url)\n",
        "\n",
        "#We cleaned up the old dataframe from unwanted characters\n",
        "df_old['word'] = df_old['word'].replace(to_replace ='[^A-Za-z-\\']', value = ' ', regex = True) #Substitutes with \" \" except for these characters\n",
        "\n",
        "df_old.head(3)"
      ],
      "execution_count": null,
      "outputs": [
        {
          "output_type": "execute_result",
          "data": {
            "text/html": [
              "<div>\n",
              "<style scoped>\n",
              "    .dataframe tbody tr th:only-of-type {\n",
              "        vertical-align: middle;\n",
              "    }\n",
              "\n",
              "    .dataframe tbody tr th {\n",
              "        vertical-align: top;\n",
              "    }\n",
              "\n",
              "    .dataframe thead th {\n",
              "        text-align: right;\n",
              "    }\n",
              "</style>\n",
              "<table border=\"1\" class=\"dataframe\">\n",
              "  <thead>\n",
              "    <tr style=\"text-align: right;\">\n",
              "      <th></th>\n",
              "      <th>Unnamed: 0</th>\n",
              "      <th>freq_x</th>\n",
              "      <th>word</th>\n",
              "      <th>meaning</th>\n",
              "      <th>phonetics</th>\n",
              "      <th>learning_status</th>\n",
              "      <th>importance</th>\n",
              "      <th>palabra</th>\n",
              "      <th>字</th>\n",
              "    </tr>\n",
              "  </thead>\n",
              "  <tbody>\n",
              "    <tr>\n",
              "      <th>0</th>\n",
              "      <td>0</td>\n",
              "      <td>25487</td>\n",
              "      <td>the</td>\n",
              "      <td>NaN</td>\n",
              "      <td>ði</td>\n",
              "      <td>5</td>\n",
              "      <td>NaN</td>\n",
              "      <td>la</td>\n",
              "      <td>该</td>\n",
              "    </tr>\n",
              "    <tr>\n",
              "      <th>1</th>\n",
              "      <td>1</td>\n",
              "      <td>15260</td>\n",
              "      <td>of</td>\n",
              "      <td>NaN</td>\n",
              "      <td>ʌv</td>\n",
              "      <td>4</td>\n",
              "      <td>NaN</td>\n",
              "      <td>de</td>\n",
              "      <td>的</td>\n",
              "    </tr>\n",
              "    <tr>\n",
              "      <th>2</th>\n",
              "      <td>2</td>\n",
              "      <td>11806</td>\n",
              "      <td>and</td>\n",
              "      <td>NaN</td>\n",
              "      <td>ænd</td>\n",
              "      <td>5</td>\n",
              "      <td>NaN</td>\n",
              "      <td>y</td>\n",
              "      <td>和</td>\n",
              "    </tr>\n",
              "  </tbody>\n",
              "</table>\n",
              "</div>"
            ],
            "text/plain": [
              "   Unnamed: 0  freq_x word  meaning  ... learning_status importance  palabra  字\n",
              "0           0   25487  the      NaN  ...               5        NaN       la  该\n",
              "1           1   15260   of      NaN  ...               4        NaN       de  的\n",
              "2           2   11806  and      NaN  ...               5        NaN        y  和\n",
              "\n",
              "[3 rows x 9 columns]"
            ]
          },
          "metadata": {
            "tags": []
          },
          "execution_count": 57
        }
      ]
    },
    {
      "cell_type": "code",
      "metadata": {
        "id": "CFYPU8iWdDhT"
      },
      "source": [
        "#1 Load functions to clean up texts and count words\n",
        "\n",
        "import re\n",
        "\n",
        "\n",
        "#Function to prepare (clean up) the text\n",
        "def prep_text(file_name): \n",
        "  text = str(file_name)\n",
        "  text = text.lower()\n",
        "  text=re.sub(\"[^A-Za-z-']\",\" \",text) #Substitutes with \" \" except for these characters\n",
        "\n",
        "  return text\n",
        "\n",
        "\n",
        "#Function to count words as a dictioary word:frequency\n",
        "def word_count(str):\n",
        "    counts = dict()\n",
        "    words = str.split() #split by space?\n",
        "\n",
        "    for word in words:\n",
        "        if word in counts:\n",
        "            counts[word] += 1\n",
        "        else:\n",
        "            counts[word] = 1\n",
        "\n",
        "    return counts\n"
      ],
      "execution_count": null,
      "outputs": []
    },
    {
      "cell_type": "code",
      "metadata": {
        "colab": {
          "base_uri": "https://localhost:8080/",
          "height": 204
        },
        "id": "I8NaQfbadqCX",
        "outputId": "b5645873-94da-4c99-9c23-1dac9fa756f0"
      },
      "source": [
        "#1 Clean up books from unwanted characters\n",
        "#2 List out dataframes. Each one corresponds with a book\n",
        "#3 Concatenate and aggregate dataframes\n",
        "\n",
        "\n",
        "#Clean up and create list of dataframes\n",
        "df_list =[]\n",
        "\n",
        "for book in book_list:\n",
        "  text = prep_text(book)\n",
        "  frq = word_count(text) #Creates a dictionary word-count\n",
        "  df_words = pd.DataFrame(frq.items(), columns =['word','freq']) #items to loop over dict\n",
        "  df_list.append(df_words)\n",
        "\n",
        "\n",
        "#Aggregate dataframes\n",
        "df = pd.concat(df_list) #Concatenate dataframes \n",
        "df = df.groupby('word',as_index = False).sum() #Group by 'words' and sum their frequencies\n",
        "df = df.sort_values(by=['freq'], ascending= False) #Sort df by frequency of each word\n",
        "\n",
        "df.head()"
      ],
      "execution_count": null,
      "outputs": [
        {
          "output_type": "execute_result",
          "data": {
            "text/html": [
              "<div>\n",
              "<style scoped>\n",
              "    .dataframe tbody tr th:only-of-type {\n",
              "        vertical-align: middle;\n",
              "    }\n",
              "\n",
              "    .dataframe tbody tr th {\n",
              "        vertical-align: top;\n",
              "    }\n",
              "\n",
              "    .dataframe thead th {\n",
              "        text-align: right;\n",
              "    }\n",
              "</style>\n",
              "<table border=\"1\" class=\"dataframe\">\n",
              "  <thead>\n",
              "    <tr style=\"text-align: right;\">\n",
              "      <th></th>\n",
              "      <th>word</th>\n",
              "      <th>freq</th>\n",
              "    </tr>\n",
              "  </thead>\n",
              "  <tbody>\n",
              "    <tr>\n",
              "      <th>25274</th>\n",
              "      <td>the</td>\n",
              "      <td>35654</td>\n",
              "    </tr>\n",
              "    <tr>\n",
              "      <th>17367</th>\n",
              "      <td>of</td>\n",
              "      <td>22892</td>\n",
              "    </tr>\n",
              "    <tr>\n",
              "      <th>984</th>\n",
              "      <td>and</td>\n",
              "      <td>17754</td>\n",
              "    </tr>\n",
              "    <tr>\n",
              "      <th>25645</th>\n",
              "      <td>to</td>\n",
              "      <td>14577</td>\n",
              "    </tr>\n",
              "    <tr>\n",
              "      <th>56</th>\n",
              "      <td>a</td>\n",
              "      <td>14248</td>\n",
              "    </tr>\n",
              "  </tbody>\n",
              "</table>\n",
              "</div>"
            ],
            "text/plain": [
              "      word   freq\n",
              "25274  the  35654\n",
              "17367   of  22892\n",
              "984    and  17754\n",
              "25645   to  14577\n",
              "56       a  14248"
            ]
          },
          "metadata": {
            "tags": []
          },
          "execution_count": 59
        }
      ]
    },
    {
      "cell_type": "code",
      "metadata": {
        "colab": {
          "base_uri": "https://localhost:8080/",
          "height": 142
        },
        "id": "QMijpGQbf_Xv",
        "outputId": "5ebc38aa-f838-45f0-feca-49d2307ed849"
      },
      "source": [
        "#1.Merge the old dataframe with the new word-frequency\n",
        "  #New words contains all the old words\n",
        "  #Old data has confirmed phonetic transcriptions and our learning records\n",
        "#2.We select the columns we want for the final dataframe\n",
        "#3. Drop duplicates in the column 'word'\n",
        "#We will study this df_finished dataframe\n",
        "\n",
        "\n",
        "#Merge dataframes\n",
        "df_updated = pd.merge(df, df_old,\n",
        "                        how=\"left\", on=[\"word\"])\n",
        "\n",
        "#Select columns\n",
        "df_finished = df_updated[['word','freq','meaning','phonetics','learning_status',\n",
        "                        'importance','palabra','字']].copy()\n",
        "\n",
        "#Drop duplicates\n",
        "df_finished.drop_duplicates(subset =\"word\", \n",
        "                     keep = 'first', inplace = True) \n",
        "\n",
        "df_finished.head(3)\n"
      ],
      "execution_count": null,
      "outputs": [
        {
          "output_type": "execute_result",
          "data": {
            "text/html": [
              "<div>\n",
              "<style scoped>\n",
              "    .dataframe tbody tr th:only-of-type {\n",
              "        vertical-align: middle;\n",
              "    }\n",
              "\n",
              "    .dataframe tbody tr th {\n",
              "        vertical-align: top;\n",
              "    }\n",
              "\n",
              "    .dataframe thead th {\n",
              "        text-align: right;\n",
              "    }\n",
              "</style>\n",
              "<table border=\"1\" class=\"dataframe\">\n",
              "  <thead>\n",
              "    <tr style=\"text-align: right;\">\n",
              "      <th></th>\n",
              "      <th>word</th>\n",
              "      <th>freq</th>\n",
              "      <th>meaning</th>\n",
              "      <th>phonetics</th>\n",
              "      <th>learning_status</th>\n",
              "      <th>importance</th>\n",
              "      <th>palabra</th>\n",
              "      <th>字</th>\n",
              "    </tr>\n",
              "  </thead>\n",
              "  <tbody>\n",
              "    <tr>\n",
              "      <th>0</th>\n",
              "      <td>the</td>\n",
              "      <td>35654</td>\n",
              "      <td>NaN</td>\n",
              "      <td>ði</td>\n",
              "      <td>5</td>\n",
              "      <td>NaN</td>\n",
              "      <td>la</td>\n",
              "      <td>该</td>\n",
              "    </tr>\n",
              "    <tr>\n",
              "      <th>3</th>\n",
              "      <td>of</td>\n",
              "      <td>22892</td>\n",
              "      <td>NaN</td>\n",
              "      <td>ʌv</td>\n",
              "      <td>4</td>\n",
              "      <td>NaN</td>\n",
              "      <td>de</td>\n",
              "      <td>的</td>\n",
              "    </tr>\n",
              "    <tr>\n",
              "      <th>4</th>\n",
              "      <td>and</td>\n",
              "      <td>17754</td>\n",
              "      <td>NaN</td>\n",
              "      <td>ænd</td>\n",
              "      <td>5</td>\n",
              "      <td>NaN</td>\n",
              "      <td>y</td>\n",
              "      <td>和</td>\n",
              "    </tr>\n",
              "  </tbody>\n",
              "</table>\n",
              "</div>"
            ],
            "text/plain": [
              "  word   freq  meaning phonetics learning_status  importance palabra  字\n",
              "0  the  35654      NaN        ði               5         NaN      la  该\n",
              "3   of  22892      NaN        ʌv               4         NaN      de  的\n",
              "4  and  17754      NaN       ænd               5         NaN       y  和"
            ]
          },
          "metadata": {
            "tags": []
          },
          "execution_count": 60
        }
      ]
    },
    {
      "cell_type": "code",
      "metadata": {
        "colab": {
          "base_uri": "https://localhost:8080/",
          "height": 17
        },
        "id": "qWXvVIbQgtsE",
        "outputId": "570522d5-e332-4acd-d0f1-31132d271c4c"
      },
      "source": [
        "#1.Donwload the df as csv\n",
        "#2.Upload it to Google Drive and study it as a spreadsheet\n",
        "#3.Update the spreadsheet with more precise phonetics, learning_status\n",
        "#4.Add more books and keep run again this ipynb\n",
        "\n",
        "from google.colab import files\n",
        "\n",
        "# e.g. save pandas output as csv\n",
        "df_finished.to_csv('freq.csv')\n",
        "files.download('freq.csv')"
      ],
      "execution_count": null,
      "outputs": [
        {
          "output_type": "display_data",
          "data": {
            "application/javascript": [
              "\n",
              "    async function download(id, filename, size) {\n",
              "      if (!google.colab.kernel.accessAllowed) {\n",
              "        return;\n",
              "      }\n",
              "      const div = document.createElement('div');\n",
              "      const label = document.createElement('label');\n",
              "      label.textContent = `Downloading \"${filename}\": `;\n",
              "      div.appendChild(label);\n",
              "      const progress = document.createElement('progress');\n",
              "      progress.max = size;\n",
              "      div.appendChild(progress);\n",
              "      document.body.appendChild(div);\n",
              "\n",
              "      const buffers = [];\n",
              "      let downloaded = 0;\n",
              "\n",
              "      const channel = await google.colab.kernel.comms.open(id);\n",
              "      // Send a message to notify the kernel that we're ready.\n",
              "      channel.send({})\n",
              "\n",
              "      for await (const message of channel.messages) {\n",
              "        // Send a message to notify the kernel that we're ready.\n",
              "        channel.send({})\n",
              "        if (message.buffers) {\n",
              "          for (const buffer of message.buffers) {\n",
              "            buffers.push(buffer);\n",
              "            downloaded += buffer.byteLength;\n",
              "            progress.value = downloaded;\n",
              "          }\n",
              "        }\n",
              "      }\n",
              "      const blob = new Blob(buffers, {type: 'application/binary'});\n",
              "      const a = document.createElement('a');\n",
              "      a.href = window.URL.createObjectURL(blob);\n",
              "      a.download = filename;\n",
              "      div.appendChild(a);\n",
              "      a.click();\n",
              "      div.remove();\n",
              "    }\n",
              "  "
            ],
            "text/plain": [
              "<IPython.core.display.Javascript object>"
            ]
          },
          "metadata": {
            "tags": []
          }
        },
        {
          "output_type": "display_data",
          "data": {
            "application/javascript": [
              "download(\"download_6443ccd1-76ae-47ea-a621-2c63d7752aaa\", \"freq.csv\", 970446)"
            ],
            "text/plain": [
              "<IPython.core.display.Javascript object>"
            ]
          },
          "metadata": {
            "tags": []
          }
        }
      ]
    }
  ]
}